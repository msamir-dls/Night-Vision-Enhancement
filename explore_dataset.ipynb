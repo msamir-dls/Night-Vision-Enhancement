{
 "cells": [
  {
   "cell_type": "code",
   "execution_count": null,
   "metadata": {},
   "outputs": [],
   "source": [
    "import cv2\n",
    "import os"
   ]
  },
  {
   "cell_type": "code",
   "execution_count": null,
   "metadata": {},
   "outputs": [],
   "source": [
    "ls"
   ]
  },
  {
   "cell_type": "code",
   "execution_count": 5,
   "metadata": {},
   "outputs": [],
   "source": [
    "path = r\"lol_dataset/our485/\""
   ]
  },
  {
   "cell_type": "code",
   "execution_count": null,
   "metadata": {},
   "outputs": [],
   "source": [
    "image_files = [f for f in os.listdir(path) if f.endswith((\".jpg\", \".png\", \".jpeg\"))]"
   ]
  },
  {
   "cell_type": "code",
   "execution_count": null,
   "metadata": {},
   "outputs": [],
   "source": [
    "images = []\n",
    "for img_file in image_files:\n",
    "    img = cv2.imread(os.path.join(path, img_file))\n",
    "    if img is not None: images.append(img)"
   ]
  },
  {
   "cell_type": "code",
   "execution_count": null,
   "metadata": {},
   "outputs": [],
   "source": [
    "if images:\n",
    "    cv2.imshow(\"Sample Image\", images[0])\n",
    "    cv2.waitKey(0)\n",
    "    cv2.destroyAllWindows()"
   ]
  },
  {
   "cell_type": "code",
   "execution_count": 1,
   "metadata": {},
   "outputs": [],
   "source": [
    "import torch\n",
    "import cv2\n",
    "import os\n",
    "from torch.utils.data import Dataset, DataLoader\n",
    "import torchvision.transforms as transforms"
   ]
  },
  {
   "cell_type": "code",
   "execution_count": 7,
   "metadata": {},
   "outputs": [],
   "source": [
    "class LowLightDataset(Dataset):\n",
    "    def __init__(self, root_dir, transform=None):\n",
    "        self.low_light_dir = os.path.join(root_dir, \"low\")\n",
    "        self.high_light_dir = os.path.join(root_dir, \"high\")\n",
    "        self.transform = transform\n",
    "\n",
    "\n",
    "        self.low_images = sorted(os.listdir(self.low_light_dir))\n",
    "        self.high_images = sorted(os.listdir(self.high_light_dir))\n",
    "\n",
    "    def __len__(self):\n",
    "        return len(self.low_images)\n",
    "\n",
    "    def __getitem__(self, idx):\n",
    "      \n",
    "        low_path = os.path.join(self.low_light_dir, self.low_images[idx])\n",
    "        high_path = os.path.join(self.high_light_dir, self.high_images[idx])\n",
    "\n",
    "   \n",
    "        low_img = cv2.imread(low_path)\n",
    "        high_img = cv2.imread(high_path)\n",
    "\n",
    "\n",
    "        low_img = cv2.cvtColor(low_img, cv2.COLOR_BGR2RGB)\n",
    "        high_img = cv2.cvtColor(high_img, cv2.COLOR_BGR2RGB)\n",
    "\n",
    "  \n",
    "        if self.transform:\n",
    "            low_img = self.transform(low_img)\n",
    "            high_img = self.transform(high_img)\n",
    "\n",
    "        return low_img, high_img"
   ]
  },
  {
   "cell_type": "code",
   "execution_count": 8,
   "metadata": {},
   "outputs": [],
   "source": [
    "transform = transforms.Compose([\n",
    "    transforms.ToPILImage(), \n",
    "    transforms.Resize((256, 256)),\n",
    "    transforms.ToTensor(),  \n",
    "    transforms.Normalize((0.5,), (0.5,))  \n",
    "])"
   ]
  },
  {
   "cell_type": "code",
   "execution_count": 9,
   "metadata": {},
   "outputs": [],
   "source": [
    "dataset = LowLightDataset(root_dir=path, transform=transform)\n",
    "dataloader = DataLoader(dataset, batch_size=16, shuffle=True)\n",
    "low, high = next(iter(dataloader))"
   ]
  },
  {
   "cell_type": "code",
   "execution_count": 12,
   "metadata": {},
   "outputs": [
    {
     "name": "stdout",
     "output_type": "stream",
     "text": [
      "Low-Light Image Shape: torch.Size([16, 3, 256, 256]), High Image Shape: torch.Size([16, 3, 256, 256])\n"
     ]
    }
   ],
   "source": [
    "print(f\"Low-Light Image Shape: {low.shape}, High Image Shape: {high.shape}\")"
   ]
  },
  {
   "cell_type": "code",
   "execution_count": null,
   "metadata": {},
   "outputs": [],
   "source": []
  }
 ],
 "metadata": {
  "kernelspec": {
   "display_name": "Python 3 (ipykernel)",
   "language": "python",
   "name": "python3"
  },
  "language_info": {
   "codemirror_mode": {
    "name": "ipython",
    "version": 3
   },
   "file_extension": ".py",
   "mimetype": "text/x-python",
   "name": "python",
   "nbconvert_exporter": "python",
   "pygments_lexer": "ipython3",
   "version": "3.10.9"
  },
  "vscode": {
   "interpreter": {
    "hash": "1a1af0ee75eeea9e2e1ee996c87e7a2b11a0bebd85af04bb136d915cefc0abce"
   }
  }
 },
 "nbformat": 4,
 "nbformat_minor": 2
}
